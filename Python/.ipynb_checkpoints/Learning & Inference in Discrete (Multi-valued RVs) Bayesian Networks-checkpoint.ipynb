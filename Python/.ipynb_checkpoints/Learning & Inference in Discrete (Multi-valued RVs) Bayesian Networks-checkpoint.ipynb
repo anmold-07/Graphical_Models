{
 "cells": [
  {
   "cell_type": "code",
   "execution_count": 1,
   "id": "de1cd439",
   "metadata": {},
   "outputs": [
    {
     "data": {
      "text/html": [
       "<style>.container { width:100% !important; }</style>"
      ],
      "text/plain": [
       "<IPython.core.display.HTML object>"
      ]
     },
     "metadata": {},
     "output_type": "display_data"
    }
   ],
   "source": [
    "from IPython.display import display, HTML\n",
    "display(HTML(\"<style>.container { width:100% !important; }</style>\"))"
   ]
  },
  {
   "cell_type": "code",
   "execution_count": 2,
   "id": "c3bc0918",
   "metadata": {},
   "outputs": [],
   "source": [
    "import math\n",
    "import numpy as np\n",
    "import numpy.matlib\n",
    "import pandas as pd\n",
    "import networkx as nx        # for graphical model visualization\n",
    "from scipy import linalg\n",
    "from numpy.linalg import inv\n",
    "import matplotlib.pyplot as plt\n",
    "\n",
    "from ismember import ismember"
   ]
  },
  {
   "cell_type": "markdown",
   "id": "7e2117de",
   "metadata": {},
   "source": [
    "## 1. [Modeling] Construction of a Bayesian Network Graphical Model:\n",
    "\n",
    "- Assuming arbitrary parameters and a random network structure for each factor in the conditional probability distribution.\n",
    "- Assuming random variables with different cardinalities."
   ]
  },
  {
   "cell_type": "code",
   "execution_count": 3,
   "id": "5e046417",
   "metadata": {},
   "outputs": [
    {
     "data": {
      "image/png": "[encoded data removed]",
      "text/plain": [
       "<Figure size 640x480 with 1 Axes>"
      ]
     },
     "metadata": {},
     "output_type": "display_data"
    },
    {
     "data": {
      "text/plain": [
       "<Figure size 100x100 with 0 Axes>"
      ]
     },
     "metadata": {},
     "output_type": "display_data"
    }
   ],
   "source": [
    "let_to_num = {\"A\":1, \"B\":2, \"C\":3, \"D\":4, \"E\":5, \"F\":6}\n",
    "randVar = ['A', 'B', 'C', 'D', 'E', 'F']\n",
    "values  = [ 1,   2,   3,   4,   5,   6]\n",
    "\n",
    "ltn = dict( zip(randVar, values) )\n",
    "\n",
    "# graphical model construction\n",
    "G = nx.DiGraph()\n",
    "G.add_edges_from([('B/2', 'D/4')])\n",
    "G.add_edges_from([('A/1', 'D/4')])\n",
    "G.add_edges_from([('A/1', 'C/3')])\n",
    "G.add_edges_from([('D/4', 'F/6')])\n",
    "G.add_edges_from([('A/1', 'F/6')])\n",
    "G.add_edges_from([('C/3', 'E/5')])\n",
    "G.add_edges_from([('F/6', 'E/5')])\n",
    "\n",
    "#pos = nx.spring_layout(G, seed=3) # positions for all nodes, seed for reproducibility\n",
    "pos = nx.nx_agraph.graphviz_layout(G, prog=\"dot\")\n",
    "\n",
    "# nodes\n",
    "nx.draw_networkx_nodes(G, pos, node_color= 'yellow', node_size=400)\n",
    "\n",
    "# edges\n",
    "nx.draw_networkx_edges(G, pos, width=2)\n",
    "labels = nx.get_edge_attributes(G,'weight')\n",
    "nx.draw_networkx_edge_labels(G,pos,edge_labels=labels, font_size=12)\n",
    "\n",
    "# node labels\n",
    "nx.draw_networkx_labels(G, pos, font_size=12, font_family=\"sans-serif\")\n",
    "\n",
    "plt.figure(figsize=(1, 1))\n",
    "plt.show()\n",
    "\n",
    "class Struct:\n",
    "    def __init__(self, var=None, card=None, val=None):\n",
    "        self.var = var\n",
    "        self.card = card\n",
    "        self.val = val\n",
    "\n",
    "# input probab tables\n",
    "probab_A = Struct([let_to_num['A']], [2], [0.4, 0.6])\n",
    "probab_B = Struct([let_to_num['B']], [3], [0.3, 0.4, 0.3])\n",
    "probab_C = Struct([let_to_num['C'], let_to_num['A']], [3, 2], [0.3, 0.25, 0.45, 0.05, 0.2, 0.75])\n",
    "probab_D = Struct([let_to_num['D'], let_to_num['A'], let_to_num['B']], [2, 2, 3], [0.05, 0.95, 0.22, 0.78, 0.93, 0.07, 0.53, 0.47, 0.4, 0.59, 0.3, 0.7])\n",
    "probab_E = Struct([let_to_num['E'], let_to_num['C'], let_to_num['F']], [2, 3, 2], [0.02, 0.98, 0.3, 0.7, 0.13, 0.87, 0.32, 0.68, 0.92, 0.08, 0.58, 0.42])\n",
    "probab_F = Struct([let_to_num['F'], let_to_num['A'], let_to_num['D']], [2, 2, 2], [0.95, 0.05, 0.43, 0.57, 0.1, 0.9, 0.28, 0.72])\n",
    "probab_tables = [probab_A, probab_B, probab_C, probab_D, probab_E, probab_F]"
   ]
  },
  {
   "cell_type": "code",
   "execution_count": 4,
   "id": "52559756",
   "metadata": {},
   "outputs": [],
   "source": [
    "def IndexToAssignment(I, D):\n",
    "    \"\"\"\n",
    "    I: list of indices to be converted.\n",
    "    D: list of caradinalities.\n",
    "    \n",
    "    returns: np.array() of assignments.\n",
    "    \"\"\"\n",
    "    D = np.array(D).reshape( (1, len(D)) ) # ensure D is a row vector\n",
    "    I = np.array( I ).reshape( (len(I), 1) )\n",
    "    \n",
    "    den = np.matlib.repmat( np.cumprod( np.concatenate( (np.array([1]), D[0][:-1]) ) )  , I.shape[0], 1)\n",
    "    num = np.matlib.repmat( I-1, 1,  D.shape[1])\n",
    "    AA = np.floor( num / den )\n",
    "    BB = np.matlib.repmat( D, len(I), 1 )\n",
    "    result = np.mod( AA, BB ) + 1     # whether or not you want to add 1 is a modeling option, ofcourse.\n",
    "    return np.array(result, dtype=int)\n",
    "\"\"\"\n",
    "# to check whether the function is working as expected or not.\n",
    "D = [2, 2]\n",
    "I = list( range(1, np.prod(D) + 1) )\n",
    "A = IndexToAssignment(I, D)\n",
    "print(A, AssignmentToIndex(A, D))\n",
    "\"\"\"\n",
    "def AssignmentToIndex(A, D):\n",
    "    \"\"\"\n",
    "    A: np.array() of assignments \n",
    "    D: list of caradinalities.\n",
    "    \n",
    "    returns: np.array() of indices.\n",
    "    \"\"\"\n",
    "    D = np.array(D).reshape( (1, len(D)) ) # ensure D is a row vector\n",
    "    \n",
    "    if 1 in A.shape:\n",
    "        x = np.cumprod( np.concatenate( (np.array([1]), D[0][:-1]) ) )\n",
    "        x = np.expand_dims(x, axis=0)\n",
    "        I = np.dot( x, (A - 1).T) + 1\n",
    "    else:\n",
    "        I = np.sum( np.matlib.repmat( np.cumprod( np.concatenate( (np.array([1]), D[0][:-1]) ) ), A.shape[0], 1 ) * (A - 1) , axis=1) + 1\n",
    "        \n",
    "    return I\n",
    "\n",
    "def product_factor(factor1, factor2):  \n",
    "    \"\"\"\n",
    "    Computes the product of two factors (fundamental computation to solve many downstream tasks).\n",
    "    \n",
    "    input:  factor1: Struct \n",
    "            factor2: Struct\n",
    "           \n",
    "    output: factor3: Struct: another factor that computes their product.\n",
    "    \"\"\"\n",
    "    # determining variables in the new factor.\n",
    "    factor3 = Struct()\n",
    "    factor3.var = sorted( list( set(factor1.var + factor2.var) ) ) # a sorted non-repeated union\n",
    "    #print(\"factor3 variables: \", factor3.var)\n",
    "    \n",
    "    # determining the cardinality of the new factor.\n",
    "    _, mapfactor1 = ismember(factor1.var, factor3.var)\n",
    "    _, mapfactor2 = ismember(factor2.var, factor3.var)\n",
    "    factor3.card = [0] * len(factor3.var)\n",
    "    #print(\"mapfactor1: \", mapfactor1) # factor 1 me jo elements hai vo factor 3 mei kaha milengey?\n",
    "    #print(\"mapfactor2: \", mapfactor2)\n",
    "    \n",
    "    for index, element in enumerate(mapfactor1):\n",
    "        factor3.card[element] = factor1.card[index]\n",
    "    for index, element in enumerate(mapfactor2):\n",
    "        factor3.card[element] = factor2.card[index]\n",
    "    \n",
    "    # determining the probability values associated with the new factor.\n",
    "    totalNumberofValues = math.prod(factor3.card)\n",
    "    factor3.val = [-1] * totalNumberofValues\n",
    "    assignments = IndexToAssignment( list( range(1, totalNumberofValues+1) ),  factor3.card ) \n",
    "    #print(assignments)\n",
    "    \n",
    "    indxfactor1 = AssignmentToIndex( assignments[:, mapfactor1], factor1.card ).ravel()  # acessing factor1.val elements\n",
    "    indxfactor2 = AssignmentToIndex( assignments[:, mapfactor2], factor2.card ).ravel()  # acessing factor2.val elements\n",
    "    #print(indxfactor1, indxfactor2)\n",
    "    #print(indxfactor1.ravel(), indxfactor2.ravel())\n",
    "    \n",
    "    \n",
    "    for index in range(totalNumberofValues):\n",
    "        factor3.val[index] = factor1.val[ indxfactor1[index]-1 ] * factor2.val[ indxfactor2[index]-1 ]\n",
    "        \n",
    "    return factor3\n",
    "\n",
    "def compute_joint_distribution(probab_tables):\n",
    "    \"\"\"\n",
    "    Computes the joint distribution given a list of probability factors as input.\n",
    "    \n",
    "    input:   probab_tables: List of Struct's\n",
    "    \n",
    "    output:  joint:         Struct\n",
    "    \"\"\"\n",
    "    joint = probab_tables[0]\n",
    "    for index, probab_table in enumerate(probab_tables):\n",
    "        if index >0:\n",
    "            joint = product_factor(joint, probab_table)\n",
    "            \n",
    "    return joint\n",
    "\n",
    "def sum_marginalization(factor1, variableOut):\n",
    "    \"\"\"\n",
    "    Marginalizes out variables in variableOut from factor1.\n",
    "    \n",
    "    input:  factor1: Struct  \n",
    "            variableOut: List: A list of variables to be marginalized out from factor1.var\n",
    "            \n",
    "    output: Struct\n",
    "    \"\"\"\n",
    "    # determining variables in the new factor.\n",
    "    factor3 = Struct()\n",
    "    factor3.var = sorted( list( set(factor1.var) - set(variableOut) ) )\n",
    "    \n",
    "    # determining the cardinality of the new factor.\n",
    "    mapfactor3 = []\n",
    "    for randomVar in factor3.var:\n",
    "        for index in range(len(factor1.var)):\n",
    "            if factor1.var[index] == randomVar:\n",
    "                mapfactor3.append(index)\n",
    "                break\n",
    "    factor3.card = [0] * len(factor3.var)\n",
    "    \n",
    "    for idx in range(len(factor3.card)):\n",
    "        factor3.card[idx] = factor1.card[ mapfactor3[idx] ]\n",
    "    \n",
    "    # yeh pata karo ki factor3 me jo variables hai vo factor1 me kaha milengey.\n",
    "    #_, mapfactor1 = ismember(factor1.var, factor3.var)\n",
    "    #for idx in mapB:\n",
    "    #    B.card.append(A.card[idx])\n",
    "    \n",
    "    totalNumberofValuesfactor1 = math.prod(factor1.card)\n",
    "    assignments = IndexToAssignment( list( range(1, totalNumberofValuesfactor1+1) ), factor1.card )\n",
    "    indxfactor3 = AssignmentToIndex( assignments[:, mapfactor3], factor3.card ).ravel()\n",
    "   \n",
    "    # determining the probability values associated with the new factor.\n",
    "    totalNumberofValuesfactor3 = math.prod(factor3.card)\n",
    "    factor3.val = [0] * totalNumberofValuesfactor3\n",
    "    \n",
    "    for i in range(1, totalNumberofValuesfactor3+1):\n",
    "        for j in range(totalNumberofValuesfactor1):\n",
    "            if indxfactor3[j]==i:\n",
    "                factor3.val[i-1] = factor3.val[i-1] + factor1.val[j]\n",
    "                \n",
    "    return factor3\n",
    "\n",
    "def observe_evidence(probab_tables, evidence):\n",
    "    \"\"\"\n",
    "    Incorporates evidence in the \n",
    "    \n",
    "    input:  probab_tables: List of Struct's\n",
    "            evidence:      np.array([])\n",
    "    \n",
    "    output: probab_tables: List of Struct's: the function modifies the input factor to incorporate evidence.\n",
    "    \n",
    "    \"\"\"\n",
    "    if evidence.size!=0:\n",
    "        for rowIndex, element in enumerate(evidence):\n",
    "            #print(rowIndex, element)\n",
    "            variable = element[0] # which RV is evidence?\n",
    "            value    = element[1] # the value it takes?\n",
    "            #print(variable, value)\n",
    "\n",
    "            for probab_table in probab_tables:\n",
    "\n",
    "                if variable in probab_table.var:\n",
    "                    totalNumberofValues = math.prod(probab_table.card)\n",
    "                    assignments = IndexToAssignment( list( range(1, totalNumberofValues+1) ),  probab_table.card )\n",
    "                    #print(assignments)\n",
    "                    for ii, rowAssignment in enumerate(assignments):\n",
    "                        for jj, randVar in enumerate(probab_table.var):\n",
    "                            if randVar==variable:\n",
    "                                if assignments[ii, jj]!=value:\n",
    "                                    length = assignments[ii, :].shape[0]\n",
    "                                    #print( assignments[ii, :].reshape( (1, length)).shape )\n",
    "                                    #print(assignments[ii, :], probab_table.card)\n",
    "                                    index_to_be_assigned = AssignmentToIndex(assignments[ii, :].reshape( (1, length) ), probab_table.card)\n",
    "                                    index_to_be_assigned = index_to_be_assigned.item()\n",
    "                                    #print(index_to_be_assigned)\n",
    "                                    probab_table.val[ index_to_be_assigned-1 ] = 0\n",
    "                       \n",
    "    return probab_tables\n",
    "\n",
    "def compute_marginal(variables_in_marginal, probab_tables, evidence):\n",
    "    \"\"\"\n",
    "    input:  variables_in_marginal: list of variables that you want in the marginal\n",
    "                    probab_tables: List of Struct's\n",
    "                         evidence: np.array([])\n",
    "    \n",
    "    output:        marginalFactor: Struct\n",
    "    \n",
    "    \"\"\"\n",
    "    probab_tables_with_evidence = observe_evidence(probab_tables, evidence)\n",
    "    joint_with_evidence = compute_joint_distribution(probab_tables_with_evidence)\n",
    "    \n",
    "    variableOut = sorted( list( set(joint_with_evidence.var) - set(variables_in_marginal) ) )\n",
    "    marginalFactor = sum_marginalization(joint_with_evidence, variableOut)\n",
    "    #print(marginalFactor.var, marginalFactor.card, marginalFactor.val)\n",
    "    \n",
    "    marginalFactor.val = list( np.array(marginalFactor.val)/sum(marginalFactor.val) )\n",
    "    return marginalFactor"
   ]
  },
  {
   "cell_type": "markdown",
   "id": "692f58d0",
   "metadata": {},
   "source": [
    "## 2. [Inference] Posterior Probability Inference: Variable Elimination.\n",
    "\n",
    "The goal is to compute the posterior distribution of any of the random variable given any other in order to confirm that the above solver is correct. Few of them that I compute are the following:\n",
    "$$ \n",
    "\\begin{align}\n",
    "\\mathbb{P}(\\; C \\;\\vert \\; A = 1)\\ ,\n",
    "\\end{align}\n",
    "$$"
   ]
  },
  {
   "cell_type": "code",
   "execution_count": 5,
   "id": "36ca1333",
   "metadata": {},
   "outputs": [
    {
     "name": "stdout",
     "output_type": "stream",
     "text": [
      "[1, 3] [2, 3] [0.30000000000000004, 0.0, 0.25, 0.0, 0.44999999999999996, 0.0]\n"
     ]
    }
   ],
   "source": [
    "evidence = np.array([[let_to_num['A'], 1]])\n",
    "marginalFactor = compute_marginal([let_to_num['C'], let_to_num['A']], probab_tables, evidence)\n",
    "print(marginalFactor.var, marginalFactor.card, marginalFactor.val)"
   ]
  },
  {
   "cell_type": "markdown",
   "id": "7570241c",
   "metadata": {},
   "source": [
    "Another one to compute is \n",
    "$$ \n",
    "\\begin{align}\n",
    "\\mathbb{P}(\\; E \\;\\vert \\; C=3, F=1)\\ ,\n",
    "\\end{align}\n",
    "$$"
   ]
  },
  {
   "cell_type": "code",
   "execution_count": 6,
   "id": "40668a7f",
   "metadata": {},
   "outputs": [
    {
     "name": "stdout",
     "output_type": "stream",
     "text": [
      "[3, 5, 6] [3, 2, 2] [0.0031934804413239716, 0.03991850551654965, 0.03113643430290873, 0.15648054162487465, 0.09314317953861584, 0.20837459879638917, 0.04490431293881645, 0.10758324974924774, 0.1220836008024072, 0.09542166499498496, 0.00935506519558676, 0.08840536609829487]\n"
     ]
    }
   ],
   "source": [
    "evidence = np.array([])\n",
    "marginalFactor = compute_marginal([let_to_num['E'], let_to_num['C'], let_to_num['F']], probab_tables, evidence)\n",
    "print(marginalFactor.var, marginalFactor.card, marginalFactor.val)"
   ]
  },
  {
   "cell_type": "code",
   "execution_count": 7,
   "id": "3a00334a",
   "metadata": {},
   "outputs": [
    {
     "name": "stdout",
     "output_type": "stream",
     "text": [
      "[3, 5, 6] [3, 2, 2] [0.0, 0.0, 0.13000000000000003, 0.0, 0.0, 0.87, 0.0, 0.0, 0.0, 0.0, 0.0, 0.0]\n"
     ]
    }
   ],
   "source": [
    "evidence = np.array([[let_to_num['C'], 3], \n",
    "                     [let_to_num['F'], 1]])\n",
    "marginalFactor = compute_marginal([let_to_num['E'], let_to_num['C'], let_to_num['F']], probab_tables, evidence)\n",
    "print(marginalFactor.var, marginalFactor.card, marginalFactor.val)"
   ]
  },
  {
   "cell_type": "markdown",
   "id": "fc3de7ae",
   "metadata": {},
   "source": [
    "### 2.1 In order to interpret outcome of probability values from the output of the above factor, it is essential to use the following handy tool to see how to read off the .val factor fields."
   ]
  },
  {
   "cell_type": "code",
   "execution_count": 8,
   "id": "fc984643",
   "metadata": {},
   "outputs": [
    {
     "name": "stdout",
     "output_type": "stream",
     "text": [
      "[[1 1 1]\n",
      " [2 1 1]\n",
      " [3 1 1]\n",
      " [1 2 1]\n",
      " [2 2 1]\n",
      " [3 2 1]\n",
      " [1 1 2]\n",
      " [2 1 2]\n",
      " [3 1 2]\n",
      " [1 2 2]\n",
      " [2 2 2]\n",
      " [3 2 2]] [ 1  2  3  4  5  6  7  8  9 10 11 12]\n"
     ]
    }
   ],
   "source": [
    "D = [3, 2, 2]\n",
    "I = list( range(1, np.prod(D) + 1) )\n",
    "A = IndexToAssignment(I, D)\n",
    "print(A, AssignmentToIndex(A, D))"
   ]
  },
  {
   "cell_type": "markdown",
   "id": "d1a7161f",
   "metadata": {},
   "source": [
    "## 3. [Learning] Parameter Learning of Each CPD:\n",
    "- In order to learn the parameters of the above graphical model, the first step is to generate a dataset (samples faithful to this particular graphical model).\n",
    "- Once a dataset is generated, the goal is to implement a learning algorithm that can learn all the parameters from that dataset of the graphical model.\n",
    "- Finally, the goal is to figure out a metric that quantifies the quality of learned parameters (one naive way is to naively compare each CPD parameter of the ground truth and learned but this get's out of hand quickly).\n",
    "\n",
    "### 3.1 This step has already been done in the other notebook of binary RV. Refer to that notebook for more details."
   ]
  },
  {
   "cell_type": "markdown",
   "id": "eae3785c",
   "metadata": {},
   "source": [
    "### If all RVs Binary: 4 *effective* data points for linear regression.\n",
    "- C = 0, A = 0, P = 0 (Okay)\n",
    "- C = 1, A = 0, P = 0 (Okay)\n",
    "- C = 0, A = 1, P = 0 \n",
    "- C = 1, A = 1, P = 0 (Okay)\n",
    "- C = 0, A = 0, P = 1 \n",
    "- C = 1, A = 0, P = 1 \n",
    "- C = 0, A = 1, P = 1\n",
    "- C = 1, A = 1, P = 1 (Okay)\n",
    "\n",
    "### If all RVs but C$\\in \\{0, 1, 2\\}$ are Binary: 7 *effective* data points for linear regression when $|C| = 3$.\n",
    "- C = 0, A = 0, P = 0 (Okay)\n",
    "- C = 1, A = 0, P = 0 (Okay)\n",
    "- C = 2, A = 0, P = 0 (Okay)\n",
    "- C = 0, A = 1, P = 0 \n",
    "- C = 1, A = 1, P = 0 (Okay)\n",
    "- C = 2, A = 1, P = 0 (Okay)\n",
    "- C = 0, A = 0, P = 1 \n",
    "- C = 1, A = 0, P = 1 \n",
    "- C = 2, A = 0, P = 1 \n",
    "- C = 0, A = 1, P = 1\n",
    "- C = 1, A = 1, P = 1 (Okay)\n",
    "- C = 2, A = 1, P = 1 (Okay)\n",
    "\n",
    "### If all RVs but C$\\in \\{0, 1, 2\\}$,  A$\\in \\{0, 1, 2\\}$ are Binary: 9 *effective* data points for linear regression when $|C| = 3$ and  $|A| = 3$.\n",
    "- C = 0, A = 0, P = 0 (Okay)\n",
    "- C = 1, A = 0, P = 0 (Okay)\n",
    "- C = 2, A = 0, P = 0 (Okay)\n",
    "- C = 0, A = 1, P = 0 \n",
    "- C = 1, A = 1, P = 0 (Okay)\n",
    "- C = 2, A = 1, P = 0 (Okay)\n",
    "- C = 0, A = 2, P = 0 \n",
    "- C = 1, A = 2, P = 0 \n",
    "- C = 2, A = 2, P = 0 (Okay)\n",
    "- C = 0, A = 0, P = 1 \n",
    "- C = 1, A = 0, P = 1 \n",
    "- C = 2, A = 0, P = 1 \n",
    "- C = 0, A = 1, P = 1\n",
    "- C = 1, A = 1, P = 1 (Okay)\n",
    "- C = 2, A = 1, P = 1 (Okay)\n",
    "- C = 0, A = 2, P = 1\n",
    "- C = 1, A = 2, P = 1 \n",
    "- C = 2, A = 2, P = 1 (Okay)\n",
    "\n",
    "### If all RVs but C$\\in \\{0, 1, 2, 3\\}$,  A$\\in \\{0, 1, 2\\}$ are Binary: 14 *effective* data points for linear regression when $|C| = 4$ and  $|A| = 3$.\n",
    "- C = 0, A = 0, P = 0 (Okay)\n",
    "- C = 1, A = 0, P = 0 (Okay)\n",
    "- C = 2, A = 0, P = 0 (Okay)\n",
    "- C = 3, A = 0, P = 0 (Okay)\n",
    "- C = 0, A = 1, P = 0 \n",
    "- C = 1, A = 1, P = 0 (Okay)\n",
    "- C = 2, A = 1, P = 0 (Okay)\n",
    "- C = 3, A = 1, P = 0 (Okay)\n",
    "- C = 0, A = 2, P = 0 \n",
    "- C = 1, A = 2, P = 0 \n",
    "- C = 2, A = 2, P = 0 (Okay)\n",
    "- C = 3, A = 2, P = 0 (Okay)\n",
    "- C = 0, A = 0, P = 1 \n",
    "- C = 1, A = 0, P = 1 \n",
    "- C = 2, A = 0, P = 1 \n",
    "- C = 3, A = 0, P = 1 \n",
    "- C = 0, A = 1, P = 1\n",
    "- C = 1, A = 1, P = 1 (Okay)\n",
    "- C = 2, A = 1, P = 1 (Okay)\n",
    "- C = 3, A = 1, P = 1 (Okay)\n",
    "- C = 0, A = 2, P = 1\n",
    "- C = 1, A = 2, P = 1 \n",
    "- C = 2, A = 2, P = 1 (Okay)\n",
    "- C = 3, A = 2, P = 1 (Okay)"
   ]
  },
  {
   "cell_type": "code",
   "execution_count": null,
   "id": "6343c6a1",
   "metadata": {},
   "outputs": [],
   "source": []
  }
 ],
 "metadata": {
  "kernelspec": {
   "display_name": "Python 3 (ipykernel)",
   "language": "python",
   "name": "python3"
  },
  "language_info": {
   "codemirror_mode": {
    "name": "ipython",
    "version": 3
   },
   "file_extension": ".py",
   "mimetype": "text/x-python",
   "name": "python",
   "nbconvert_exporter": "python",
   "pygments_lexer": "ipython3",
   "version": "3.8.13"
  }
 },
 "nbformat": 4,
 "nbformat_minor": 5
}
