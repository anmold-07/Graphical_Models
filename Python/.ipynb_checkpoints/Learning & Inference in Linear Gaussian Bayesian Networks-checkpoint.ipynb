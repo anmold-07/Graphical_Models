{
 "cells": [
  {
   "cell_type": "code",
   "execution_count": 1,
   "id": "3f822df8",
   "metadata": {},
   "outputs": [
    {
     "data": {
      "text/html": [
       "<style>.container { width:100% !important; }</style>"
      ],
      "text/plain": [
       "<IPython.core.display.HTML object>"
      ]
     },
     "metadata": {},
     "output_type": "display_data"
    }
   ],
   "source": [
    "from IPython.display import display, HTML\n",
    "display(HTML(\"<style>.container { width:100% !important; }</style>\"))"
   ]
  },
  {
   "cell_type": "code",
   "execution_count": 2,
   "id": "feb8d586",
   "metadata": {},
   "outputs": [],
   "source": [
    "import numpy as np\n",
    "import pandas as pd\n",
    "import networkx as nx        # for graphical model visualization\n",
    "from numpy.linalg import inv\n",
    "import matplotlib.pyplot as plt\n",
    "from scipy import linalg"
   ]
  },
  {
   "cell_type": "markdown",
   "id": "a4750924",
   "metadata": {},
   "source": [
    "## 1. [Modeling] Computing the Joint Distribution from the Conditional Probability Distribution (CPD) Parameters: Linear Gaussian Bayesian Networks.\n",
    "\n",
    "The Conditional Probability Distriibution (CPD) for each factor in a linear Guassian bayesian network can be parameterized via the equation:\n",
    "$$\n",
    "\\begin{align}\n",
    "    \\mathbb{P}_{X_{\\scriptsize \\mbox{child}}|U_{\\scriptsize \\mbox{parents}}} = \\mathcal{N}\\left(b + \\sum_{i \\in U_{parents}} w_{i} \\cdot u_{i} ; \\sigma^{2}\\right)\\ .\n",
    "\\end{align}\n",
    "$$\n",
    "\n",
    "- i.e., each random variable is associated with the following parameters:\n",
    "    - 1 $\\times$ conditional variance parameter\n",
    "    - 1 $\\times$ conditional bias parameter\n",
    "    - numParents $\\times$ weight parameters"
   ]
  },
  {
   "cell_type": "markdown",
   "id": "df43e04a",
   "metadata": {},
   "source": [
    "- In order to compute the joint distribution of the entire graphical model, one needs to compute mean $\\mu$ and covariance $\\Sigma$. \n",
    "- $\\mu$ and $\\Sigma$ can directly computed as follows:\n",
    "    - Let $A$ represent the lower triangular adjacency matrix of the graphical model (function of weight edges).\n",
    "    - Let $S$ denote the diagonal conditional variance matrix.\n",
    "    - Then, $\\Sigma$ can be computed via the formula:\n",
    "        - $\\Sigma = (I - A)^{-1} \\cdot S \\cdot [inv(I - A)^{-1}]^{\\top}$\n",
    "    - $\\mu$ can be computed hierarchically starting from the root node. Ofcourse, $\\mu$ is some function of $A$."
   ]
  },
  {
   "cell_type": "markdown",
   "id": "695eadb7",
   "metadata": {},
   "source": [
    "- Before we fit this Gaussian model to real Amazon data, let's make sure that the learning algorithm developed actually works. To ensure that, I will create a random Gaussian BN with arbitrary parameters, generate data according to this model and then learn these parameters via MLE. To confirm whether the learning algorithm works or not, we can match the parameters :)"
   ]
  },
  {
   "cell_type": "markdown",
   "id": "4209590a",
   "metadata": {},
   "source": [
    "### 1.1 Graphical Model Construction.\n",
    "\n",
    "- Assuming the following parameters for the conditional Gaussian graphical model (arbitrary parameters):\n",
    "\n",
    "|RV |Cond. Bias $b_{A}$| Weight $w_{AB}$ |Cond. Variance $\\sigma^{2}_{A}$|\n",
    "| :---|  ----:  |  ----:  |  ----:   |\n",
    "|A  |0.4                   |        N/A                   |  0.2         | \n",
    "\n",
    "\n",
    "|RV |Cond. Bias $b_{B \\vert A}$| Weight $w_{AB}$ | Cond. Variance $\\sigma^{2}_{B \\vert A}$|\n",
    "| :----|  ----:  |  ----:  |  ----:                           |\n",
    "|B     |0        |  0.3    |  0.4                             | \n",
    "\n",
    "\n",
    "|RV |Cond. Bias $b_{C \\vert A}$| Weight $w_{AC}$ | Cond. Variance $\\sigma^{2}_{C \\vert A}$|\n",
    "| :----|  ----:  |  ----:  |  ----:   |\n",
    "|C  |0.2                 | 2               | 0.3 |\n",
    "\n",
    "\n",
    "|RV |Cond. Bias $b_{D \\vert B,C}$| Weights $w_{BD}$, $w_{CD}$ | Cond. Variance $\\sigma^{2}_{D \\vert B,C}$|\n",
    "| :----|  ----:  |  ----: |  ----:  |\n",
    "|D  |0                     |$[1, 2]$                   |  0.3                               | \n",
    "\n",
    "\n",
    "|RV |Cond. Bias $b_{E \\vert C}$| Weight $w_{CE}$ | Cond. Variance $\\sigma^{2}_{E \\vert C}$|\n",
    "| :----|  ----:  |  ----:  |  ----:   |\n",
    "|E  |12                  |   1             | 0.2                              | "
   ]
  },
  {
   "cell_type": "code",
   "execution_count": 3,
   "id": "3c687bd8",
   "metadata": {},
   "outputs": [
    {
     "data": {
      "image/png": "[encoded data removed]",
      "text/plain": [
       "<Figure size 640x480 with 1 Axes>"
      ]
     },
     "metadata": {},
     "output_type": "display_data"
    },
    {
     "data": {
      "text/plain": [
       "<Figure size 100x100 with 0 Axes>"
      ]
     },
     "metadata": {},
     "output_type": "display_data"
    }
   ],
   "source": [
    "randVar = ['A', 'B', 'C', 'D', 'E']\n",
    "values = [0, 1, 2, 3, 4]\n",
    "ltn = dict(zip(randVar, values))\n",
    "\n",
    "# graphical model construction\n",
    "G = nx.DiGraph()\n",
    "G.add_edges_from([('A/0', 'B/1')], weight=0.3)\n",
    "G.add_edges_from([('A/0', 'C/2')], weight=2)\n",
    "G.add_edges_from([('B/1', 'D/3')], weight=1)\n",
    "G.add_edges_from([('C/2', 'D/3')], weight=2)\n",
    "G.add_edges_from([('C/2', 'E/4')], weight=1)\n",
    "\n",
    "#pos = nx.spring_layout(G, seed=3) # positions for all nodes, seed for reproducibility\n",
    "pos = nx.nx_agraph.graphviz_layout(G, prog=\"dot\")\n",
    "\n",
    "# nodes\n",
    "nx.draw_networkx_nodes(G, pos, node_color= 'yellow', node_size=500)\n",
    "\n",
    "# edges\n",
    "nx.draw_networkx_edges(G, pos, width=3)\n",
    "labels = nx.get_edge_attributes(G,'weight')\n",
    "nx.draw_networkx_edge_labels(G,pos,edge_labels=labels, font_size=12)\n",
    "\n",
    "# node labels\n",
    "nx.draw_networkx_labels(G, pos, font_size=12, font_family=\"sans-serif\")\n",
    "\n",
    "plt.figure(figsize=(1, 1))\n",
    "plt.show()"
   ]
  },
  {
   "cell_type": "markdown",
   "id": "89aa9ff1",
   "metadata": {},
   "source": [
    "### 1.2 Covariance Matrix Construction from Conditional Variances."
   ]
  },
  {
   "cell_type": "code",
   "execution_count": 4,
   "id": "fde6ca80",
   "metadata": {},
   "outputs": [
    {
     "name": "stdout",
     "output_type": "stream",
     "text": [
      "A:  [[0.  0.  0.  0.  0. ]\n",
      " [0.3 0.  0.  0.  0. ]\n",
      " [2.  0.  0.  0.  0. ]\n",
      " [0.  1.  2.  0.  0. ]\n",
      " [0.  0.  1.  0.  0. ]]\n"
     ]
    },
    {
     "data": {
      "text/plain": [
       "array([[ 0.2, -0. , -0. , -0. , -0. ],\n",
       "       [-0. ,  0.4, -0. ,  0. ,  0. ],\n",
       "       [-0. , -0. ,  0.3, -0. , -0. ],\n",
       "       [-0. ,  0. , -0. ,  0.3, -0. ],\n",
       "       [-0. ,  0. , -0. , -0. ,  0.2]])"
      ]
     },
     "execution_count": 4,
     "metadata": {},
     "output_type": "execute_result"
    }
   ],
   "source": [
    "# constructing S (conditional variance of each node given parents)\n",
    "condVariance = [0.2, 0.4, 0.3, 0.3, 0.2]\n",
    "S = np.diag(condVariance)\n",
    "\n",
    "# constructing A (function of weights)\n",
    "# scope for more automation based on the GSO of the graphical model, e.g., can look at it's adjacency matrix.\n",
    "# build the graphical relation first.\n",
    "# then extract the weight matrix from that graph to develop A.\n",
    "A = nx.adjacency_matrix(G)\n",
    "A = A.todense()\n",
    "A = A.transpose()\n",
    "print('A: ', A)\n",
    "\n",
    "I = np.identity(len(values))\n",
    "temp = inv(I - A)\n",
    "cov = temp*S*(temp.transpose())\n",
    "cov"
   ]
  },
  {
   "cell_type": "markdown",
   "id": "4f256c36",
   "metadata": {},
   "source": [
    "### 1.3 Mean Vector Construction from Conditional Biases and Edge Weights."
   ]
  },
  {
   "cell_type": "code",
   "execution_count": 5,
   "id": "11cd4e75",
   "metadata": {},
   "outputs": [
    {
     "data": {
      "text/plain": [
       "array([0.4 , 0.12, 1.  , 2.12, 2.  ])"
      ]
     },
     "execution_count": 5,
     "metadata": {},
     "output_type": "execute_result"
    }
   ],
   "source": [
    "# constructing Mean vector from CPDs. \n",
    "condBias = [0.4, 0, 0.2, 0, 1]\n",
    "condBias = np.array(condBias)\n",
    "mu = np.array( [-1.1]*len(condBias) )\n",
    "\n",
    "for rowIndex, _ in enumerate(condBias):\n",
    "    # find parents of \"rowIndex\"\n",
    "    nonZeroIndices = np.where( A[rowIndex, :]>0 )[0]\n",
    "    parentWeights = np.array(A[rowIndex, nonZeroIndices])\n",
    "    if len(nonZeroIndices)>0:\n",
    "        # has parents\n",
    "        temp = np.dot(np.squeeze(parentWeights), mu[nonZeroIndices])\n",
    "        mu[rowIndex] = condBias[rowIndex] + temp.item()\n",
    "    else:\n",
    "        # no parent\n",
    "        mu[rowIndex] = condBias[rowIndex]   \n",
    "    #print(mu)\n",
    "    #print(\"\")\n",
    "    \n",
    "mu"
   ]
  },
  {
   "cell_type": "markdown",
   "id": "7a056d5e",
   "metadata": {},
   "source": [
    "### 1.4 Simulated Dataset Generation by sampling from the induced Joint Gaussian Distribution."
   ]
  },
  {
   "cell_type": "code",
   "execution_count": 6,
   "id": "8af3f300",
   "metadata": {},
   "outputs": [
    {
     "data": {
      "text/plain": [
       "(5, 1000)"
      ]
     },
     "execution_count": 6,
     "metadata": {},
     "output_type": "execute_result"
    }
   ],
   "source": [
    "# draw samples from the joint distribution (happens to be Multi variate gaussian)\n",
    "numSamples = 1000\n",
    "data = np.random.multivariate_normal(mu, cov, numSamples).T\n",
    "data.shape"
   ]
  },
  {
   "cell_type": "markdown",
   "id": "bc6abb7b",
   "metadata": {},
   "source": [
    "## 2. [Learning] Parameter Learning of Each CPD from Samples Generated Above:\n",
    "\n",
    "- Inferring the conditional weights, biases and variances from data can be casted as a MLE problem.\n",
    "- When the data is complete (no latent variables), the MLE decomposes into a set of local learning problems, one for each random variable.\n",
    "- Simplifying the parameter learning for each CPD results in the following three key equations (rendering one each when differentiating w.r.t condtional bias, weights and condtional variance):\n",
    "    $$\n",
    "    \\begin{align}\n",
    "    E_{D}[X_{child}] &= b + \\sum_{i \\in U_{parents}} w_{i} \\cdot E_{D}[u_{i}]\\ , \\\\\n",
    "    E_{D}[X_{child} \\cdot u_{i}] &= b \\cdot E_{D}[u_{i}] + \\sum_{j \\in U_{parents}} w_{j} \\cdot E_{D}[u_{j} \\cdot u_{i}]\\ ,\\\\\n",
    "    \\sigma^{2} &= \\mbox{Cov}_{D}[X; X] - \\sum_{i} \\sum_{j} w_{i}\\cdot w_{j} \\cdot \\mbox{Cov}_{D}[u_{i}; u_{j}]\\ .\n",
    "    \\end{align}\n",
    "    $$\n",
    "- The first two system of linear equations can learn the biases and weights asscociated with each random variables.\n",
    "- After which, they can be leveraged to learn conditional variances $\\sigma^{2}$ for each CPD separately."
   ]
  },
  {
   "cell_type": "markdown",
   "id": "205ba4c5",
   "metadata": {},
   "source": [
    "### 2.1 Parameterizing the Conditional Biases, Weights and Variances."
   ]
  },
  {
   "cell_type": "code",
   "execution_count": 7,
   "id": "59f28d2b",
   "metadata": {},
   "outputs": [],
   "source": [
    "learnBias = [None]*len(values)\n",
    "learnVariance = [None]*len(values)\n",
    "learnWeights = {}"
   ]
  },
  {
   "cell_type": "markdown",
   "id": "679a0829",
   "metadata": {},
   "source": [
    "### 2.2 Computing Essential Singleton and Pairwise Sufficient Statistics for Plug-in Parameter Estimation."
   ]
  },
  {
   "cell_type": "code",
   "execution_count": 8,
   "id": "ef383d71",
   "metadata": {},
   "outputs": [
    {
     "name": "stdout",
     "output_type": "stream",
     "text": [
      "[0.43151081 0.12565589 0.98224119 2.12450314 2.02905367]\n",
      "[0.36901627 0.43463116 1.27121347 4.8039744  4.32786599]\n"
     ]
    }
   ],
   "source": [
    "expectedX = np.average(data, axis=1)           #Singleton expected value for each RV.\n",
    "print(expectedX)\n",
    "expectedXSquared = np.average(data**2, axis=1) #Singleton expected value for each RV^{2}.\n",
    "print(expectedXSquared)"
   ]
  },
  {
   "cell_type": "markdown",
   "id": "39035870",
   "metadata": {},
   "source": [
    "###  2.3 Formulating the System of Linear Equations for Each Random Variable:\n",
    "- Simple algorithm for computing the unknown parameter:\n",
    "    - if the RV has parents, then solve a system of linear equations by dynamically constructing the first two equations above.\n",
    "        - To find out the number parents for the current node, find the number of non-zero elements in the $A$ matrix assocaited with the current node row.\n",
    "    - else, compute the mean and variance only."
   ]
  },
  {
   "cell_type": "code",
   "execution_count": 9,
   "id": "65b2b561",
   "metadata": {},
   "outputs": [
    {
     "name": "stdout",
     "output_type": "stream",
     "text": [
      "currNode:  0\n",
      "\n",
      "currNode:  1\n",
      "parent:          0\n",
      "\n",
      "currNode:  2\n",
      "parent:          0\n",
      "\n",
      "currNode:  3\n",
      "parents:         1   2\n",
      "\n",
      "currNode:  4\n",
      "parent:          2\n",
      "\n",
      "learned Bias:      [0.4315108090450466, 0.1291064827329677, 0.9831834927706627, 2.208173925256592, 1.9851544643661425]\n",
      "learned Variance:  [0.18281468693128786, 0.4188300671313852, 0.3064148478235934, 0.2882649482144718, 0.2101951275647364]\n",
      "learned Weights:   {'W_(1, 0)': -0.007996545313692333, 'W_(2, 0)': -0.002183734874086333, 'W_(3, 1)': -0.006745460846322168, 'W_(3, 2)': -0.08432060995473152, 'W_(4, 2)': 0.04469290323335007}\n"
     ]
    }
   ],
   "source": [
    "for currNode in range(len(values)):\n",
    "    print(\"currNode: \", currNode)\n",
    "    numParents = len( np.nonzero(A[currNode, :])[0] )\n",
    "    if numParents:\n",
    "        if numParents==1:\n",
    "            parent = np.nonzero(A[currNode, :])[0].item()\n",
    "            print(\"parent:         \", parent)\n",
    "            left = np.array( [ [1, expectedX[parent]], \n",
    "                               [expectedX[parent], expectedXSquared[parent]] ] \n",
    "                           )\n",
    "            right = np.array( [ expectedX[currNode], \n",
    "                                np.dot(data[currNode, :], data[parent,:])/numSamples]\n",
    "                            )\n",
    "            variables = linalg.solve(left, right)\n",
    "            learnBias[currNode] = variables[0]\n",
    "            #print(f\"W_{currNode, parent}\")\n",
    "            learnWeights[f\"W_{currNode, parent}\"] = variables[1]\n",
    "            #print(learnBias, learnWeights)\n",
    "            learnVariance[currNode] = expectedXSquared[currNode] - (expectedX[currNode])**2 - (learnWeights[f\"W_{currNode, parent}\"]**2)*(expectedXSquared[parent] - (expectedX[parent])**2)\n",
    "            #learnVariance\n",
    "        elif numParents==2:\n",
    "            parent1, parent2 = np.nonzero(A[currNode, :])[0]\n",
    "            print(\"parents:        \", parent1, \" \",  parent2)\n",
    "            left = np.array( [ [1, expectedX[parent1], expectedX[parent2]], \n",
    "                               [expectedX[parent1], expectedXSquared[parent1], np.dot(data[parent1, :], data[parent2,:])/numSamples], \n",
    "                               [expectedX[parent2], np.dot(data[parent2, :], data[parent1,:])/numSamples, expectedXSquared[parent2]] ] )\n",
    "            right = np.array( [expectedX[currNode], \n",
    "                               np.dot(data[currNode, :], data[parent1,:])/numSamples, \n",
    "                               np.dot(data[currNode, :], data[parent2,:])/numSamples ] )\n",
    "            variables = linalg.solve(left, right)\n",
    "            learnBias[currNode] = variables[0]\n",
    "            learnWeights[f\"W_{currNode, parent1}\"] = variables[1]\n",
    "            learnWeights[f\"W_{currNode, parent2}\"] = variables[2]\n",
    "            #print(learnBias, learnWeights)\n",
    "            learnVariance[currNode] = expectedXSquared[currNode] - (expectedX[currNode])**2 - 2*((learnWeights[f\"W_{currNode, parent1}\"]*learnWeights[f\"W_{currNode, parent2}\"])*(np.dot(data[parent1, :], data[parent2,:])/numSamples - expectedX[parent1]*expectedX[parent2])) -  (learnWeights[f\"W_{currNode, parent1}\"]**2)*(expectedXSquared[parent1] - (expectedX[parent1])**2) -  (learnWeights[f\"W_{currNode, parent2}\"]**2)*(expectedXSquared[parent2] - (expectedX[parent2])**2)\n",
    "            #learnVariance\n",
    "    else:\n",
    "        # no parents\n",
    "        learnBias[currNode] = expectedX[currNode]\n",
    "        learnVariance[currNode] = expectedXSquared[currNode] - (expectedX[currNode])**2\n",
    "    print(\"\")\n",
    "        \n",
    "print(\"learned Bias:     \", learnBias)\n",
    "print(\"learned Variance: \", learnVariance)\n",
    "print(\"learned Weights:  \", learnWeights)"
   ]
  },
  {
   "cell_type": "markdown",
   "id": "0eebee87",
   "metadata": {},
   "source": [
    "## 3. [Inference] Computing Posteriors: Inference in Graphical models\n",
    "\n",
    "In order to compute any posterior in this model, we can simply leverage the property that all the RVs jointly induce a multivariate Gaussian density. Hence, any posterior ditribution of the form $\\mathbb{P}(X_{1} \\vert X_{2} = a)$ can be expressed as:\n",
    "$$\n",
    "\\begin{align}\n",
    "\\mathbb{P}(X_{1} \\vert X_{2} = a) &\\sim \\mathcal{N}(\\bar \\mu, \\bar \\Sigma), \\\\\n",
    "\\bar \\mu & = \\mu_{1} + \\Sigma_{12} \\cdot \\Sigma^{-1}_{22} \\cdot (a - \\mu_{2})\\ ,\\\\\n",
    "\\bar \\Sigma & = \\Sigma_{11} - \\Sigma_{12}\\cdot \\Sigma^{-1}_{22}\\cdot \\Sigma_{21}\\ .\n",
    "\\end{align}\n",
    "$$"
   ]
  },
  {
   "cell_type": "code",
   "execution_count": 10,
   "id": "cd01d2d8",
   "metadata": {},
   "outputs": [],
   "source": [
    "def moment_estimation(weights, condVariance, condBias):\n",
    "    \"\"\"\n",
    "    Estimates the Mean and Covariance matrix of the joint Gaussian distribution given CPD parameters.\n",
    "    \"\"\"\n",
    "    G = nx.DiGraph()\n",
    "    G.add_edges_from([('A/0', 'B/1')], weight=weights[0])\n",
    "    G.add_edges_from([('A/0', 'C/2')], weight=weights[1])\n",
    "    G.add_edges_from([('B/1', 'D/3')], weight=weights[2])\n",
    "    G.add_edges_from([('C/2', 'D/3')], weight=weights[3])\n",
    "    G.add_edges_from([('C/2', 'E/4')], weight=weights[4])\n",
    "\n",
    "    S = np.diag(condVariance)\n",
    "    # constructing A (function of weights)\n",
    "    # scope for more automation based on the GSO of the graphical model, e.g., can look at it's adjacency matrix.\n",
    "    # build the graphical relation first.\n",
    "    # then extract the weight matrix from that graph to develop A.\n",
    "    A = nx.adjacency_matrix(G)\n",
    "    A = A.todense()\n",
    "    A = A.transpose()\n",
    "    #print('A: ', A)\n",
    "    I = np.identity(len(values))\n",
    "    temp = inv(I - A)\n",
    "    cov = temp*S*(temp.transpose())\n",
    "\n",
    "    condBias = np.array(condBias)\n",
    "    mu = np.array( [-1.1]*len(condBias) )\n",
    "\n",
    "    for rowIndex, _ in enumerate(condBias):\n",
    "        # find parents of \"rowIndex\"\n",
    "        nonZeroIndices = np.where( A[rowIndex, :]>0 )[0]\n",
    "        parentWeights = np.array(A[rowIndex, nonZeroIndices])\n",
    "        if len(nonZeroIndices)>0:\n",
    "            # has parents\n",
    "            temp = np.dot(np.squeeze(parentWeights), mu[nonZeroIndices])\n",
    "            mu[rowIndex] = condBias[rowIndex] + temp.item()\n",
    "        else:\n",
    "            # no parent\n",
    "            mu[rowIndex] = condBias[rowIndex]   \n",
    "            \n",
    "    return mu, cov"
   ]
  },
  {
   "cell_type": "code",
   "execution_count": 11,
   "id": "e724f069",
   "metadata": {},
   "outputs": [
    {
     "name": "stdout",
     "output_type": "stream",
     "text": [
      "Mean:  [0.4  0.12 1.   2.12 2.  ]\n",
      "Covariance:  [[ 0.2 -0.  -0.  -0.  -0. ]\n",
      " [-0.   0.4 -0.   0.   0. ]\n",
      " [-0.  -0.   0.3 -0.  -0. ]\n",
      " [-0.   0.  -0.   0.3 -0. ]\n",
      " [-0.   0.  -0.  -0.   0.2]]\n"
     ]
    }
   ],
   "source": [
    "# True Moments\n",
    "condBias = [0.4, 0, 0.2, 0, 1]\n",
    "condVariance = [0.2, 0.4, 0.3, 0.3, 0.2]\n",
    "weights = [0.3, 2, 1, 2, 1]\n",
    "mu, cov = moment_estimation(weights, condVariance, condBias)\n",
    "print(\"Mean: \", mu)\n",
    "print(\"Covariance: \", cov)"
   ]
  },
  {
   "cell_type": "code",
   "execution_count": 12,
   "id": "1a8efc46",
   "metadata": {},
   "outputs": [
    {
     "name": "stdout",
     "output_type": "stream",
     "text": [
      "Mean:  [0.43151081 0.12910648 0.98318349 2.20817393 2.02909579]\n",
      "Covariance:  [[ 0.18281469 -0.         -0.          0.         -0.        ]\n",
      " [-0.          0.41883007  0.         -0.          0.        ]\n",
      " [-0.          0.          0.30641485 -0.          0.        ]\n",
      " [ 0.         -0.         -0.          0.28826495  0.        ]\n",
      " [-0.          0.          0.          0.          0.21019513]]\n"
     ]
    }
   ],
   "source": [
    "# Learned Moments\n",
    "learnWeights_list = [learnWeights['W_(1, 0)'], learnWeights['W_(2, 0)'], learnWeights['W_(3, 1)'], learnWeights['W_(3, 2)'], learnWeights['W_(4, 2)']]\n",
    "muhat, covhat = moment_estimation(learnWeights_list, learnVariance, learnBias)\n",
    "print(\"Mean: \", muhat)\n",
    "print(\"Covariance: \", covhat)"
   ]
  },
  {
   "cell_type": "markdown",
   "id": "90e065b1",
   "metadata": {},
   "source": [
    "Compute the posterior distribution:\n",
    "$$ \n",
    "\\begin{align}\n",
    "\\mathbb{P}(A \\vert D=1, E=2) = \\int_{B} \\int_{C} \\mathbb{P}(A, B, C \\vert D=1, E=2)\\ ,\\\\\n",
    "\\end{align}\n",
    "$$\n",
    "\n",
    "Once the above conditional distribution $\\mathbb{P}(A, B, C \\vert D=1, E=2)$ is determined, the required posterior can be determined instantly. Leveraging the earlier mentioned property of joint Gaussians, we can compute the conditional distribution by assigning $X_{1}$ and $X_{2}$ as follows:\n",
    "$$\n",
    "\\begin{align}\n",
    "X_{1} \\in \\mathbb{R}^{3} & \\quad X_{1} = [A, B, C]^{\\top}\\ ,\\\\\n",
    "X_{2} \\in \\mathbb{R}^{2} & \\quad X_{2} = [D, E]^{\\top} \\quad a = [1, 2]^{\\top}\\ .\n",
    "\\end{align}\n",
    "$$"
   ]
  },
  {
   "cell_type": "code",
   "execution_count": 13,
   "id": "592fdf26",
   "metadata": {},
   "outputs": [
    {
     "name": "stdout",
     "output_type": "stream",
     "text": [
      "Conditional Mean:  [[0.43151081]\n",
      " [0.12910648]\n",
      " [0.98318349]]\n",
      "Conditional Covariance:  [[ 0.18281469 -0.         -0.        ]\n",
      " [-0.          0.41883007  0.        ]\n",
      " [-0.          0.          0.30641485]]\n"
     ]
    }
   ],
   "source": [
    "a = np.array([1, 2]) # evidence/observation\n",
    "muBar = muhat[:3].reshape((3,1)) + np.dot(np.dot(covhat[:3, 3:], np.linalg.inv(covhat[3:, 3:])), (a - muhat[3:]).reshape((2,1)))\n",
    "sigmaBar = covhat[:3, :3] - np.dot(np.dot(covhat[:3, 3:], np.linalg.inv(covhat[3:, 3:])), covhat[3:, :3])\n",
    "\n",
    "print(\"Conditional Mean: \", muBar)\n",
    "print(\"Conditional Covariance: \", sigmaBar)"
   ]
  },
  {
   "cell_type": "markdown",
   "id": "25d85d5c",
   "metadata": {},
   "source": [
    "Hence, the posterior $\\mathbb{P}(A \\vert D=1, E=2)$ is a Gaussian denssity with Mean: muBar[0] and Variance: sigmaBar[0]."
   ]
  },
  {
   "cell_type": "code",
   "execution_count": 14,
   "id": "98f76887",
   "metadata": {},
   "outputs": [
    {
     "name": "stdout",
     "output_type": "stream",
     "text": [
      "Posterior Mean:  0.4315108090450466\n",
      "Posterior Covariance:  0.18281468693128786\n"
     ]
    }
   ],
   "source": [
    "print(\"Posterior Mean: \", muBar[0].item())\n",
    "print(\"Posterior Covariance: \", sigmaBar[0, 0])"
   ]
  },
  {
   "cell_type": "code",
   "execution_count": null,
   "id": "f4568199",
   "metadata": {},
   "outputs": [],
   "source": []
  }
 ],
 "metadata": {
  "kernelspec": {
   "display_name": "Python 3 (ipykernel)",
   "language": "python",
   "name": "python3"
  },
  "language_info": {
   "codemirror_mode": {
    "name": "ipython",
    "version": 3
   },
   "file_extension": ".py",
   "mimetype": "text/x-python",
   "name": "python",
   "nbconvert_exporter": "python",
   "pygments_lexer": "ipython3",
   "version": "3.8.13"
  }
 },
 "nbformat": 4,
 "nbformat_minor": 5
}
